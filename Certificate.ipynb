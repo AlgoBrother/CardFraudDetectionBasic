{
 "cells": [
  {
   "cell_type": "code",
   "execution_count": null,
   "id": "f22c5d32-bd29-41ed-aaaa-5453ebf3b538",
   "metadata": {},
   "outputs": [],
   "source": [
    "import pandas as pd\n",
    "import numpy as np\n",
    "import pandas as pd\n",
    "import matplotlib.pyplot as plt\n",
    "import seaborn as sns\n",
    "from sklearn.preprocessing import StandardScaler\n",
    "from sklearn.model_selection import train_test_split\n",
    "from sklearn.ensemble import RandomForestClassifier\n",
    "from sklearn.metrics import accuracy_score, confusion_matrix\n",
    "# Set random seed for reproducibility\n",
    "np.random.seed(42)\n"
   ]
  },
  {
   "cell_type": "code",
   "execution_count": null,
   "id": "55f37566-4ff4-49d4-919a-2de402109161",
   "metadata": {},
   "outputs": [],
   "source": [
    "\n",
    "# Generate synthetic data\n",
    "n_samples = 10000\n",
    "n_features = 30  # Simulating 28 anonymized features + Amount and Time\n",
    "\n",
    "# Simulating feature values\n",
    "X = np.random.normal(0, 1, size=(n_samples, n_features))\n",
    "amount = np.random.exponential(scale=100, size=n_samples).reshape(-1, 1)\n",
    "time = np.random.uniform(0, 172800, size=n_samples).reshape(-1, 1)  # 2 days in seconds\n",
    "\n",
    "# Fraud labels: 1 for fraud, 0 for legitimate transactions\n",
    "fraud_ratio = 0.02  # 2% fraud transactions\n",
    "y = np.random.choice([0, 1], size=n_samples, p=[1-fraud_ratio, fraud_ratio])\n",
    "\n",
    "# Combine into a DataFrame\n",
    "data = pd.DataFrame(np.hstack((time, X, amount)), columns=['Time'] + [f'V{i}' for i in range(1, n_features)] + ['Amount'])\n",
    "data['Class'] = y\n",
    "\n",
    "# Save the dataset\n",
    "data.to_csv('synthetic_creditcard.csv', index=False)\n",
    "print(\"Synthetic dataset created and saved as 'synthetic_creditcard.csv'\")\n"
   ]
  },
  {
   "cell_type": "code",
   "execution_count": null,
   "id": "74fe2641-d560-44c8-aedb-0b0d95548376",
   "metadata": {},
   "outputs": [],
   "source": [
    "\n",
    "\n",
    "# Load the dataset\n",
    "data = pd.read_csv('synthetic_creditcard.csv')\n",
    "\n",
    "# Exploratory Data Analysis\n",
    "print(data.describe())\n",
    "print(data.info())\n",
    "sns.countplot(x='Class', data=data)\n",
    "plt.show()\n",
    "\n",
    "# Data Preprocessing\n",
    "scaler = StandardScaler()\n",
    "data['Amount'] = scaler.fit_transform(data['Amount'].values.reshape(-1, 1))\n",
    "\n",
    "# Model Building\n",
    "X = data.drop('Class', axis=1)\n",
    "y = data['Class']\n",
    "X_train, X_test, y_train, y_test = train_test_split(X, y, test_size=0.2, random_state=42)\n",
    "\n",
    "model = RandomForestClassifier(n_estimators=100, random_state=42)\n",
    "model.fit(X_train, y_train)\n",
    "\n",
    "# Model Evaluation\n",
    "y_pred = model.predict(X_test)\n",
    "print(\"Accuracy:\", accuracy_score(y_test, y_pred))\n",
    "print(\"Confusion Matrix:\\n\", confusion_matrix(y_test, y_pred))\n"
   ]
  },
  {
   "cell_type": "code",
   "execution_count": null,
   "id": "4a41b17d-afce-4ca3-8a64-2f7480cf5ef9",
   "metadata": {},
   "outputs": [],
   "source": []
  },
  {
   "cell_type": "code",
   "execution_count": null,
   "id": "cc9152b4-9157-4d6f-9195-ca7f864ee25b",
   "metadata": {},
   "outputs": [],
   "source": []
  }
 ],
 "metadata": {
  "kernelspec": {
   "display_name": "Python 3 (ipykernel)",
   "language": "python",
   "name": "python3"
  },
  "language_info": {
   "codemirror_mode": {
    "name": "ipython",
    "version": 3
   },
   "file_extension": ".py",
   "mimetype": "text/x-python",
   "name": "python",
   "nbconvert_exporter": "python",
   "pygments_lexer": "ipython3",
   "version": "3.11.7"
  }
 },
 "nbformat": 4,
 "nbformat_minor": 5
}
